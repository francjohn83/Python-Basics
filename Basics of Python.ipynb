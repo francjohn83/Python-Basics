{
 "cells": [
  {
   "cell_type": "code",
   "execution_count": 2,
   "metadata": {},
   "outputs": [
    {
     "name": "stdout",
     "output_type": "stream",
     "text": [
      "     /\n",
      "    /\n",
      "   /\n",
      "  /\n"
     ]
    }
   ],
   "source": [
    "#drawing a Shape\n",
    "\n",
    "print(\"     /\")\n",
    "print(\"    /\")\n",
    "print(\"   /\")\n",
    "print(\"  /\")"
   ]
  },
  {
   "cell_type": "code",
   "execution_count": 14,
   "metadata": {},
   "outputs": [
    {
     "name": "stdout",
     "output_type": "stream",
     "text": [
      "There was a man name John,\n",
      "he was 50 years old\n"
     ]
    }
   ],
   "source": [
    "#variables\n",
    "\n",
    "#Declaring the variables\n",
    "\n",
    "character_name =  \"John\"\n",
    "character_age = \"50\"\n",
    "\n",
    "print(\"There was a man name \" + character_name + \",\")\n",
    "print(\"he was \" + character_age + \" years old\")\n"
   ]
  },
  {
   "cell_type": "code",
   "execution_count": 12,
   "metadata": {},
   "outputs": [
    {
     "name": "stdout",
     "output_type": "stream",
     "text": [
      "95\n"
     ]
    }
   ],
   "source": [
    "a = 5\n",
    "b = 19\n",
    "c = a * b\n",
    "\n",
    "print(c)"
   ]
  },
  {
   "cell_type": "code",
   "execution_count": 20,
   "metadata": {},
   "outputs": [
    {
     "name": "stdout",
     "output_type": "stream",
     "text": [
      "5 is my favourite number\n",
      "6\n",
      "8\n",
      "1\n",
      "7\n",
      "3.3333333333333335\n",
      "89\n",
      "-9\n",
      "9.433981132056603\n",
      "262144.0\n"
     ]
    }
   ],
   "source": [
    "#Math\n",
    "\n",
    "from math import *\n",
    "\n",
    "my_num = 5\n",
    "\n",
    "#how to print the int values\n",
    "#always convert int into string\n",
    "\n",
    "print(str(my_num) + \" is my favourite number\")\n",
    "\n",
    "print( 2 * 3 )       # Basic Arithmetic: +, -, /, *\n",
    "print( 2**3 )        # Basic Arithmetic: +, -, /, *\n",
    "print( 10 % 3 )      # Modulus Op. : returns remainder of 10/3\n",
    "print( 1 + 2 * 3 )   # order of operations\n",
    "print(10 / 3.0)      # int's and doubles\n",
    "\n",
    "# Use math functions\n",
    "\n",
    "#max\n",
    "print(max(5, 89))\n",
    "\n",
    "#Min\n",
    "print(min(4,5,-9))\n",
    "\n",
    "#sqrt\n",
    "print(sqrt(89))\n",
    "\n",
    "#pow\n",
    "print(pow(4,9))\n",
    "\n",
    "\n",
    "\n",
    "\n"
   ]
  },
  {
   "cell_type": "code",
   "execution_count": 22,
   "metadata": {},
   "outputs": [
    {
     "name": "stdout",
     "output_type": "stream",
     "text": [
      "Enter your name : francis\n",
      "Hello francis ! \n"
     ]
    }
   ],
   "source": [
    "#Getting user input\n",
    "\n",
    "name = input(\"Enter your name : \")\n",
    "print(\"Hello \" + name + \" ! \")"
   ]
  },
  {
   "cell_type": "code",
   "execution_count": 29,
   "metadata": {},
   "outputs": [
    {
     "name": "stdout",
     "output_type": "stream",
     "text": [
      "Enter the number 1 : 789\n",
      "Enter the number 2 : 658\n",
      "Hurray ! the result is : 1447.0\n"
     ]
    }
   ],
   "source": [
    "#basic calculator using input funtion\n",
    "\n",
    "number_1 = input(\"Enter the number 1 : \")\n",
    "number_2 = input(\"Enter the number 2 : \")\n",
    "\n",
    "result =  float(number_1) + float(number_2)\n",
    "print(\"Hurray ! the result is : \" + str(result))"
   ]
  },
  {
   "cell_type": "code",
   "execution_count": null,
   "metadata": {},
   "outputs": [],
   "source": []
  }
 ],
 "metadata": {
  "kernelspec": {
   "display_name": "Python 3",
   "language": "python",
   "name": "python3"
  },
  "language_info": {
   "codemirror_mode": {
    "name": "ipython",
    "version": 3
   },
   "file_extension": ".py",
   "mimetype": "text/x-python",
   "name": "python",
   "nbconvert_exporter": "python",
   "pygments_lexer": "ipython3",
   "version": "3.6.5"
  }
 },
 "nbformat": 4,
 "nbformat_minor": 2
}
