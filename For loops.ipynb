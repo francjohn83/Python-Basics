{
 "cells": [
  {
   "cell_type": "code",
   "execution_count": 1,
   "metadata": {},
   "outputs": [
    {
     "name": "stdout",
     "output_type": "stream",
     "text": [
      "a\n",
      "b\n",
      "c\n",
      "d\n"
     ]
    }
   ],
   "source": [
    "friends = [\"a\",\"b\",\"c\",\"d\"]\n",
    "for friend in friends:\n",
    "    print(friend)"
   ]
  },
  {
   "cell_type": "code",
   "execution_count": 5,
   "metadata": {},
   "outputs": [
    {
     "name": "stdout",
     "output_type": "stream",
     "text": [
      "p\n",
      "ph\n",
      "phy\n",
      "phyt\n",
      "phyth\n",
      "phytho\n",
      "phython\n",
      "phytho\n",
      "phyth\n",
      "phyt\n",
      "phy\n",
      "ph\n",
      "p\n",
      "\n"
     ]
    }
   ],
   "source": [
    "name = \"phython\"\n",
    "x = 0\n",
    "for i in name :\n",
    "    x = x + 1\n",
    "    print(name[0:x])\n",
    "for i in name :\n",
    "    x = x - 1\n",
    "    print(name[0:x])"
   ]
  },
  {
   "cell_type": "code",
   "execution_count": null,
   "metadata": {},
   "outputs": [],
   "source": []
  }
 ],
 "metadata": {
  "kernelspec": {
   "display_name": "Python 3",
   "language": "python",
   "name": "python3"
  },
  "language_info": {
   "codemirror_mode": {
    "name": "ipython",
    "version": 3
   },
   "file_extension": ".py",
   "mimetype": "text/x-python",
   "name": "python",
   "nbconvert_exporter": "python",
   "pygments_lexer": "ipython3",
   "version": "3.6.5"
  }
 },
 "nbformat": 4,
 "nbformat_minor": 2
}
